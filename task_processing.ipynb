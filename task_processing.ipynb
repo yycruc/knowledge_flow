{
 "cells": [
  {
   "cell_type": "code",
   "execution_count": null,
   "metadata": {},
   "outputs": [],
   "source": [
    "import pandas as pd\n",
    "w1_pwc = pd.read_csv(\"w1_pwc.csv\")\n",
    "w1_pwc1 = pd.read_csv(\"w1_pwc1.csv\")\n",
    "w2_pwc = pd.read_csv(\"w2_pwc.csv\")\n",
    "w2_pwc1 = pd.read_csv(\"w2_pwc1.csv\")\n",
    "task_year_all1 = pd.concat([w1_pwc,w1_pwc1],ignore_index=True)\n",
    "task_year_all2 = pd.concat([w2_pwc,w2_pwc1],ignore_index=True)\n",
    "task_year_all1.drop(['doi','date'],axis=1,inplace=True)\n",
    "task_year_all2.drop(['doi','date'],axis=1,inplace=True)\n",
    "task_year_all1['lag'] = task_year_all1['year'] - task_year_all1['ryear']\n",
    "task_year_all2['lag'] = task_year_all2['year'] - task_year_all2['ryear']\n",
    "task_year_all1 = task_year_all1.loc[task_year_all1['lag']>=0]\n",
    "task_year_all2 = task_year_all2.loc[task_year_all2['lag']>=0]\n",
    "task_year_all1 = task_year_all1.loc[(task_year_all1['year']==2017)|(task_year_all1['year']==2018)|(task_year_all1['year']==2019)|(task_year_all1['year']==2020)|(task_year_all1['year']==2021)|(task_year_all1['year']==2022)]\n",
    "task_year_all2 = task_year_all2.loc[(task_year_all2['year']==2017)|(task_year_all2['year']==2018)|(task_year_all2['year']==2019)|(task_year_all2['year']==2020)|(task_year_all2['year']==2021)|(task_year_all2['year']==2022)]\n",
    "task_year_all1.to_csv('task_year_all1.csv',index=False) # 直接用wos正则提取\n",
    "task_year_all2.to_csv('task_year_all2.csv',index=False) # 两种途径取并集（2022数据有偏）"
   ]
  },
  {
   "cell_type": "code",
   "execution_count": null,
   "metadata": {},
   "outputs": [],
   "source": [
    "# 这是用论文lag的中位数得到的期刊lag\n",
    "jd_lag1 = task_year_all1[['journal','lag','label']].groupby(['journal']).median()\n",
    "jd_lag1['times'] = [0]*len(jd_lag1)\n",
    "for i in jd_lag1.index:\n",
    "    jd_lag1.loc[i,'times'] = task_year_all1['journal'].value_counts()[i]\n",
    "\n",
    "jd_lag2 = task_year_all2[['journal','lag','label']].groupby(['journal']).median()\n",
    "jd_lag2['times'] = [0]*len(jd_lag2)\n",
    "for i in jd_lag2.index:\n",
    "    jd_lag2.loc[i,'times'] = task_year_all2['journal'].value_counts()[i]\n",
    "\n",
    "pd_lag1 = task_year_all1[['wos_doi','lag','label']].groupby(['wos_doi']).median()\n",
    "pd_lag2 = task_year_all2[['wos_doi','lag','label']].groupby(['wos_doi']).median()"
   ]
  },
  {
   "cell_type": "code",
   "execution_count": null,
   "metadata": {},
   "outputs": [],
   "source": [
    "# 这是用论文lag的平均数得到的期刊lag\n",
    "j_lag1 = task_year_all1[['journal','lag','label']].groupby(['journal']).mean()\n",
    "j_lag1['times'] = [0]*len(j_lag1)\n",
    "for i in j_lag1.index:\n",
    "    j_lag1.loc[i,'times'] = task_year_all1['journal'].value_counts()[i]\n",
    "\n",
    "j_lag2 = task_year_all2[['journal','lag','label']].groupby(['journal']).mean()\n",
    "j_lag2['times'] = [0]*len(j_lag2)\n",
    "for i in j_lag2.index:\n",
    "    j_lag2.loc[i,'times'] = task_year_all2['journal'].value_counts()[i]\n",
    "\n",
    "p_lag1 = task_year_all1[['wos_doi','lag','label']].groupby(['wos_doi']).mean()\n",
    "p_lag2 = task_year_all2[['wos_doi','lag','label']].groupby(['wos_doi']).mean()"
   ]
  },
  {
   "cell_type": "code",
   "execution_count": null,
   "metadata": {},
   "outputs": [],
   "source": [
    "jd1_0 = jd_lag1.loc[jd_lag1['label'] == 0]['lag']\n",
    "jd1_1 = jd_lag1.loc[jd_lag1['label'] == 1]['lag']\n",
    "jd1_2 = jd_lag1.loc[jd_lag1['label'] == 2]['lag']\n",
    "jd2_0 = jd_lag2.loc[jd_lag2['label'] == 0]['lag']\n",
    "jd2_1 = jd_lag2.loc[jd_lag2['label'] == 1]['lag']\n",
    "jd2_2 = jd_lag2.loc[jd_lag2['label'] == 2]['lag']\n",
    "j1_0 = j_lag1.loc[j_lag1['label'] == 0]['lag']\n",
    "j1_1 = j_lag1.loc[j_lag1['label'] == 1]['lag']\n",
    "j1_2 = j_lag1.loc[j_lag1['label'] == 2]['lag']\n",
    "j2_0 = j_lag2.loc[j_lag2['label'] == 0]['lag']\n",
    "j2_1 = j_lag2.loc[j_lag2['label'] == 1]['lag']\n",
    "j2_2 = j_lag2.loc[j_lag2['label'] == 2]['lag']"
   ]
  },
  {
   "cell_type": "code",
   "execution_count": null,
   "metadata": {},
   "outputs": [],
   "source": [
    "jd_lag1.to_csv(\"lag1_median.csv\",index=False)\n",
    "j_lag1.to_csv(\"lag1_mean.csv\",index=False)\n",
    "jd_lag2.to_csv(\"lag2_median.csv\",index=False)\n",
    "j_lag2.to_csv(\"lag2_mean.csv\",index=False)"
   ]
  },
  {
   "cell_type": "code",
   "execution_count": null,
   "metadata": {},
   "outputs": [],
   "source": [
    "# 期刊平均维度的比较\n",
    "import seaborn as sns\n",
    "sns.set(style=\"whitegrid\")\n",
    "import matplotlib.pyplot as plt\n",
    "\n",
    "fig = plt.figure(dpi=240)\n",
    "plt.rcParams['font.sans-serif'] = ['Times New Roman']\n",
    "plt.rcParams['axes.unicode_minus'] = False\n",
    "\n",
    "# plt.title('期刊聚类的引用时滞箱线图')\n",
    "# plt.ylim(-10,200)\n",
    "plt.boxplot(x=[j1_0,j1_1,j1_2],labels=['MIS','LS','IS'],vert = False,showmeans=True,meanline=True)\n",
    "# v = sns.violinplot(data=[j_0,j_1,j_2],color=\"lightblue\",bw=.2, cut=1, linewidth=1,inner='box')\n",
    "# v.set_xticklabels(['管理信息系统','图书馆学','情报学'])\n",
    "plt.show()"
   ]
  },
  {
   "cell_type": "code",
   "execution_count": null,
   "metadata": {},
   "outputs": [],
   "source": [
    "wos1 = pd.read_csv('wos1016_regex.csv')\n",
    "wos2 = pd.read_csv('wos1016.csv')\n",
    "# 逐年引文数\n",
    "cite_year1 = {}\n",
    "cite_year1['2017'] = len(wos1.loc[(wos1['year'] == 2017)])\n",
    "cite_year1['2018'] = len(wos1.loc[(wos1['year'] == 2018)])\n",
    "cite_year1['2019'] = len(wos1.loc[(wos1['year'] == 2019)])\n",
    "cite_year1['2020'] = len(wos1.loc[(wos1['year'] == 2020)])\n",
    "cite_year1['2021'] = len(wos1.loc[(wos1['year'] == 2021)])\n",
    "cite_year1['2022'] = len(wos1.loc[(wos1['year'] == 2022)])\n",
    "cite_year1 = pd.Series(cite_year1)\n",
    "\n",
    "cite_year2 = {}\n",
    "cite_year2['2017'] = len(wos2.loc[(wos2['year'] == 2017)])\n",
    "cite_year2['2018'] = len(wos2.loc[(wos2['year'] == 2018)])\n",
    "cite_year2['2019'] = len(wos2.loc[(wos2['year'] == 2019)])\n",
    "cite_year2['2020'] = len(wos2.loc[(wos2['year'] == 2020)])\n",
    "cite_year2['2021'] = len(wos2.loc[(wos2['year'] == 2021)])\n",
    "cite_year2['2022'] = len(wos2.loc[(wos2['year'] == 2022)])\n",
    "cite_year2 = pd.Series(cite_year2)"
   ]
  },
  {
   "cell_type": "code",
   "execution_count": null,
   "metadata": {},
   "outputs": [],
   "source": [
    "# 这里算的都是引用次数\n",
    "MIS_lag = pd.DataFrame(columns=range(2017,2023),index = range(39))\n",
    "LS_lag = pd.DataFrame(columns=range(2017,2023),index = range(39))\n",
    "IS_lag = pd.DataFrame(columns=range(2017,2023),index = range(39))\n",
    "for i in range(39):\n",
    "    for y in range(2017,2023):\n",
    "        MIS_lag.loc[i,y] = len(task_year_all1.loc[(task_year_all1['label'] == 0) & (task_year_all1['lag'] == i) & (task_year_all1['year'] == y)])\n",
    "        LS_lag.loc[i,y] = len(task_year_all1.loc[(task_year_all1['label'] == 1) & (task_year_all1['lag'] == i) & (task_year_all1['year'] == y)])\n",
    "        IS_lag.loc[i,y] = len(task_year_all1.loc[(task_year_all1['label'] == 2) & (task_year_all1['lag'] == i) & (task_year_all1['year'] == y)])"
   ]
  },
  {
   "cell_type": "code",
   "execution_count": null,
   "metadata": {},
   "outputs": [],
   "source": [
    "MIS_lag['sum'] = MIS_lag[2017]+MIS_lag[2018]+MIS_lag[2019]+MIS_lag[2020]+MIS_lag[2021]+MIS_lag[2022]\n",
    "LS_lag['sum'] = LS_lag[2017]+LS_lag[2018]+LS_lag[2019]+LS_lag[2020]+LS_lag[2021]+LS_lag[2022]\n",
    "IS_lag['sum'] = IS_lag[2017]+IS_lag[2018]+IS_lag[2019]+IS_lag[2020]+IS_lag[2021]+IS_lag[2022]"
   ]
  },
  {
   "cell_type": "code",
   "execution_count": null,
   "metadata": {},
   "outputs": [],
   "source": [
    "MIS_lag.index.name = 'lag'\n",
    "LS_lag.index.name = 'lag'\n",
    "IS_lag.index.name = 'lag'\n",
    "MIS_lag.to_csv('mis_lag.csv',index=False)\n",
    "LS_lag.to_csv('ls_lag.csv',index=False)\n",
    "IS_lag.to_csv('is_lag.csv',index=False)"
   ]
  },
  {
   "cell_type": "code",
   "execution_count": null,
   "metadata": {},
   "outputs": [],
   "source": [
    "# 下面是对method的处理"
   ]
  },
  {
   "cell_type": "code",
   "execution_count": null,
   "metadata": {},
   "outputs": [],
   "source": [
    "task_year_all1 = pd.read_csv('task_year_all1.csv')"
   ]
  },
  {
   "cell_type": "code",
   "execution_count": null,
   "metadata": {},
   "outputs": [],
   "source": [
    "task_year_all1[['tasks','method','field','field2']] = task_year_all1[['tasks','method','field','field2']].replace(r'\\[|\\]|\\'|\\\"','',regex=True)\n",
    "task_year_all1.replace('Named Entity Recognition (NER)', 'Named Entity Recognition',inplace=True)\n",
    "task_year_all1['tasks'] = task_year_all1['tasks'].str.replace(', ',',')\n",
    "task_year_all1['method'] = task_year_all1['method'].str.replace(', ',',')"
   ]
  },
  {
   "cell_type": "code",
   "execution_count": null,
   "metadata": {},
   "outputs": [],
   "source": [
    "task_year_all1['year'] = task_year_all1['year'].astype(int).astype(str)\n",
    "task_year_all1['ryear'] = task_year_all1['ryear'].astype(int).astype(str)\n",
    "task_year_all1['jid'] = task_year_all1['jid'].astype(int).astype(str)\n",
    "task_year_all1['label'] = task_year_all1['label'].astype(int).astype(str)"
   ]
  },
  {
   "cell_type": "code",
   "execution_count": null,
   "metadata": {},
   "outputs": [],
   "source": [
    "# 为方便展开，对每一个非空method都复制一个year\n",
    "for j in range(1,87):\n",
    "    for i in range(0,task_year_all1.shape[0]):\n",
    "        if task_year_all1['method'][i] == '':\n",
    "            pass\n",
    "        elif task_year_all1['jid'][i] == str(j):\n",
    "            list_temp = task_year_all1['method'][i]\n",
    "            tasks_temp = list_temp.split(\",\")   # 返回用,分割的列表\n",
    "            task_year_all1['method'][i] = tasks_temp\n",
    "            task_year_all1['year'][i] = [task_year_all1['year'][i]]\n",
    "            task_year_all1['year'][i] += task_year_all1['year'][i]*(len(tasks_temp) - 1)\n",
    "            task_year_all1['ryear'][i] = [task_year_all1['ryear'][i]]\n",
    "            task_year_all1['ryear'][i] += task_year_all1['ryear'][i]*(len(tasks_temp) - 1)\n",
    "            task_year_all1['jid'][i] = [task_year_all1['jid'][i]]\n",
    "            task_year_all1['jid'][i] += task_year_all1['jid'][i]*(len(tasks_temp) - 1)\n",
    "            task_year_all1['label'][i] = [task_year_all1['label'][i]]\n",
    "            task_year_all1['label'][i] += task_year_all1['label'][i]*(len(tasks_temp) - 1)"
   ]
  },
  {
   "cell_type": "code",
   "execution_count": null,
   "metadata": {},
   "outputs": [],
   "source": [
    "tasks_all = []\n",
    "tasks_year_all = []\n",
    "tasks_jid_all = []\n",
    "tasks_label_all = []\n",
    "tasks_mlyear_all = []\n",
    "\n",
    "for i in range(0,task_year_all1.shape[0]):\n",
    "    if task_year_all1['method'][i] == '':\n",
    "        pass\n",
    "    else:\n",
    "        tasks_all.extend(task_year_all1['method'][i])\n",
    "        tasks_year_all.extend(task_year_all1['year'][i])\n",
    "        tasks_jid_all.extend(task_year_all1['jid'][i])\n",
    "        tasks_label_all.extend(task_year_all1['label'][i])\n",
    "        tasks_mlyear_all.extend(task_year_all1['ryear'][i])\n",
    "data = {\"method\":tasks_all,\"year\":tasks_year_all,\"jid\":tasks_jid_all,\"label\":tasks_label_all,\"ryear\":tasks_mlyear_all}   \n",
    "unfold = pd.DataFrame(data)"
   ]
  },
  {
   "cell_type": "code",
   "execution_count": null,
   "metadata": {},
   "outputs": [],
   "source": [
    "unfold.sort_values(by=['year','label'],ascending=False).to_csv('method_count.csv',index=False)"
   ]
  },
  {
   "cell_type": "code",
   "execution_count": null,
   "metadata": {},
   "outputs": [],
   "source": [
    "unfold = pd.read_csv('method_count.csv')\n",
    "method = pd.read_csv('method.csv')\n",
    "method.fillna('',inplace=True)\n",
    "unfold['count'] = 1\n",
    "# 对method进行还原到二级\n",
    "year_task_unfold = unfold\n",
    "list_no = []\n",
    "\n",
    "for i in range(0,year_task_unfold.shape[0]):\n",
    "    list_temp = []\n",
    "    for k in range(method.shape[0]):\n",
    "        if year_task_unfold['method'][i] == method['level2'][k]:  #即原本就是二级\n",
    "            break\n",
    "    \n",
    "        elif year_task_unfold['method'][i] == method['level3'][k]:\n",
    "            list_temp.append(method['level2'][k])\n",
    "    \n",
    "    if len(list_temp) == 0: # 没有提升成功\n",
    "        list_no.append(year_task_unfold['method'][i])\n",
    "    else:\n",
    "        year_task_unfold['method'][i] = list_temp"
   ]
  },
  {
   "cell_type": "code",
   "execution_count": null,
   "metadata": {},
   "outputs": [],
   "source": [
    "year_task_unfold['year'] = year_task_unfold['year'].astype(str)\n",
    "year_task_unfold['ryear'] = year_task_unfold['ryear'].astype(str)\n",
    "year_task_unfold['jid'] = year_task_unfold['jid'].astype(str)\n",
    "year_task_unfold['label'] = year_task_unfold['label'].astype(str)\n",
    "year_task_unfold['count'] = ''\n",
    "\n",
    "for i in range(0,year_task_unfold.shape[0]):\n",
    "    if type(year_task_unfold['method'][i]) == list:\n",
    "        year_task_unfold['year'][i] = [year_task_unfold['year'][i]]\n",
    "        year_task_unfold['year'][i] += year_task_unfold['year'][i]*(len(year_task_unfold['method'][i]) - 1)\n",
    "        year_task_unfold['ryear'][i] = [year_task_unfold['ryear'][i]]\n",
    "        year_task_unfold['ryear'][i] += year_task_unfold['ryear'][i]*(len(year_task_unfold['method'][i]) - 1)\n",
    "        year_task_unfold['jid'][i] = [year_task_unfold['jid'][i]]\n",
    "        year_task_unfold['jid'][i] += year_task_unfold['jid'][i]*(len(year_task_unfold['method'][i]) - 1)\n",
    "        year_task_unfold['label'][i] = [year_task_unfold['label'][i]]\n",
    "        year_task_unfold['label'][i] += year_task_unfold['label'][i]*(len(year_task_unfold['method'][i]) - 1)\n",
    "        num = len(year_task_unfold['method'][i])\n",
    "        temp = [str(1/num)]\n",
    "        temp += temp*(num-1)\n",
    "        year_task_unfold['count'][i] = temp\n",
    "    else:\n",
    "        year_task_unfold['method'][i] = [year_task_unfold['method'][i]]\n",
    "        year_task_unfold['year'][i] = [year_task_unfold['year'][i]]\n",
    "        year_task_unfold['ryear'][i] = [year_task_unfold['ryear'][i]]\n",
    "        year_task_unfold['jid'][i] = [year_task_unfold['jid'][i]]\n",
    "        year_task_unfold['label'][i] = [year_task_unfold['label'][i]]\n",
    "        year_task_unfold['count'][i] = [1]"
   ]
  },
  {
   "cell_type": "code",
   "execution_count": null,
   "metadata": {},
   "outputs": [],
   "source": [
    "tasks_all = []\n",
    "tasks_year_all = []\n",
    "tasks_jid_all = []\n",
    "tasks_label_all = []\n",
    "tasks_mlyear_all = []\n",
    "tasks_count_all = []\n",
    "for i in range(0,year_task_unfold.shape[0]):\n",
    "    tasks_all.extend(year_task_unfold['method'][i])\n",
    "    tasks_year_all.extend(year_task_unfold['year'][i])\n",
    "    tasks_jid_all.extend(year_task_unfold['jid'][i])\n",
    "    tasks_label_all.extend(year_task_unfold['label'][i])\n",
    "    tasks_mlyear_all.extend(year_task_unfold['ryear'][i])\n",
    "    tasks_count_all.extend(year_task_unfold['count'][i])\n",
    "\n",
    "data = {\"method\":tasks_all,\"year\":tasks_year_all,\"jid\":tasks_jid_all,\"label\":tasks_label_all,\"ryear\":tasks_mlyear_all,\"count\":tasks_count_all}   \n",
    "unfold = pd.DataFrame(data)\n",
    "unfold"
   ]
  },
  {
   "cell_type": "code",
   "execution_count": null,
   "metadata": {},
   "outputs": [],
   "source": [
    "unfold.to_csv(\"second_method.csv\",index=False)"
   ]
  },
  {
   "cell_type": "code",
   "execution_count": null,
   "metadata": {},
   "outputs": [],
   "source": [
    "# 还原method到一级\n",
    "unfold = pd.read_csv('method_count.csv')\n",
    "unfold['count'] = '1'\n",
    "unfold['year'] = unfold['year'].astype(str)\n",
    "unfold['ryear'] = unfold['ryear'].astype(str)\n",
    "unfold['jid'] = unfold['jid'].astype(str)\n",
    "unfold['label'] = unfold['label'].astype(str)\n",
    "year_task_unfold1 = unfold\n",
    "\n",
    "for i in range(0,year_task_unfold1.shape[0]):\n",
    "    list_temp = []\n",
    "    for k in range(method.shape[0]):\n",
    "        if year_task_unfold1['method'][i] == method['level1'][k]:  #即原本就是一级\n",
    "            break\n",
    "    \n",
    "        elif year_task_unfold1['method'][i] == method['level2'][k]:# 是二级\n",
    "            list_temp.append(method['level1'][k])\n",
    "            break\n",
    "        \n",
    "        if year_task_unfold1['method'][i] == method['level3'][k]:\n",
    "            list_temp.append(method['level1'][k])\n",
    "                \n",
    "    if len(list_temp) != 0: # 提升成功\n",
    "        year_task_unfold1['method'][i] = list_temp\n",
    "        year_task_unfold1['year'][i] = [year_task_unfold1['year'][i]]\n",
    "        year_task_unfold1['year'][i] += year_task_unfold1['year'][i]*(len(list_temp) - 1)\n",
    "        year_task_unfold1['ryear'][i] = [year_task_unfold1['ryear'][i]]\n",
    "        year_task_unfold1['ryear'][i] += year_task_unfold1['ryear'][i]*(len(list_temp) - 1)\n",
    "        year_task_unfold1['jid'][i] = [year_task_unfold1['jid'][i]]\n",
    "        year_task_unfold1['jid'][i] += year_task_unfold1['jid'][i]*(len(list_temp) - 1)\n",
    "        year_task_unfold1['label'][i] = [year_task_unfold1['label'][i]]\n",
    "        year_task_unfold1['label'][i] += year_task_unfold1['label'][i]*(len(list_temp) - 1)\n",
    "        year_task_unfold1['count'][i] = [str(1/len(list_temp))]\n",
    "        year_task_unfold1['count'][i] += year_task_unfold1['count'][i]*(len(list_temp) - 1)\n",
    "    else:\n",
    "        year_task_unfold1['method'][i] = [year_task_unfold1['method'][i]]\n",
    "        year_task_unfold1['year'][i] = [year_task_unfold1['year'][i]]\n",
    "        year_task_unfold1['ryear'][i] = [year_task_unfold1['ryear'][i]]\n",
    "        year_task_unfold1['jid'][i] = [year_task_unfold1['jid'][i]]\n",
    "        year_task_unfold1['label'][i] = [year_task_unfold1['label'][i]]\n",
    "        year_task_unfold1['count'][i] = [year_task_unfold1['count'][i]]\n",
    "        \n",
    "tasks_all = []\n",
    "tasks_year_all = []\n",
    "tasks_jid_all = []\n",
    "tasks_label_all = []\n",
    "tasks_mlyear_all = []\n",
    "tasks_count_all = []\n",
    "for i in range(0,year_task_unfold1.shape[0]):\n",
    "    tasks_all.extend(year_task_unfold1['method'][i])\n",
    "    tasks_year_all.extend(year_task_unfold1['year'][i])\n",
    "    tasks_jid_all.extend(year_task_unfold1['jid'][i])\n",
    "    tasks_label_all.extend(year_task_unfold1['label'][i])\n",
    "    tasks_mlyear_all.extend(year_task_unfold1['ryear'][i])\n",
    "    tasks_count_all.extend(year_task_unfold1['count'][i])\n",
    "\n",
    "data = {\"method\":tasks_all,\"year\":tasks_year_all,\"jid\":tasks_jid_all,\"label\":tasks_label_all,\"ryear\":tasks_mlyear_all,\"count\":tasks_count_all}   \n",
    "unfold = pd.DataFrame(data)\n",
    "unfold"
   ]
  },
  {
   "cell_type": "code",
   "execution_count": null,
   "metadata": {},
   "outputs": [],
   "source": [
    "unfold.to_csv(\"first_method.csv\",index=False)"
   ]
  },
  {
   "cell_type": "code",
   "execution_count": null,
   "metadata": {},
   "outputs": [],
   "source": [
    "# 下面对任务进行还原"
   ]
  },
  {
   "cell_type": "code",
   "execution_count": null,
   "metadata": {},
   "outputs": [],
   "source": [
    "data_unique = pd.read_csv('data_unique.csv')\n",
    "data_unique.fillna('',inplace=True)"
   ]
  },
  {
   "cell_type": "code",
   "execution_count": null,
   "metadata": {},
   "outputs": [],
   "source": [
    "task_year_all1 = pd.read_csv('task_year_all1.csv')\n",
    "task_year_all1[['tasks','method','field','field2']] = task_year_all1[['tasks','method','field','field2']].replace(r'\\[|\\]|\\'|\\\"','',regex=True)\n",
    "task_year_all1.replace('Named Entity Recognition (NER)', 'Named Entity Recognition',inplace=True)\n",
    "task_year_all1['tasks'] = task_year_all1['tasks'].str.replace(', ',',')\n",
    "task_year_all1['method'] = task_year_all1['method'].str.replace(', ',',')\n",
    "\n",
    "task_year_all1['year'] = task_year_all1['year'].astype(int).astype(str)\n",
    "task_year_all1['ryear'] = task_year_all1['ryear'].astype(int).astype(str)\n",
    "task_year_all1['jid'] = task_year_all1['jid'].astype(int).astype(str)\n",
    "task_year_all1['label'] = task_year_all1['label'].astype(int).astype(str)"
   ]
  },
  {
   "cell_type": "code",
   "execution_count": null,
   "metadata": {},
   "outputs": [],
   "source": [
    "task_year_all1"
   ]
  },
  {
   "cell_type": "code",
   "execution_count": null,
   "metadata": {},
   "outputs": [],
   "source": [
    "# 为方便展开，对每一个非空task都复制一个year\n",
    "for j in range(1,87):\n",
    "    for i in range(0,task_year_all1.shape[0]):\n",
    "        if task_year_all1['tasks'][i] == '':\n",
    "            pass\n",
    "        elif task_year_all1['jid'][i] == str(j):\n",
    "            list_temp = task_year_all1['tasks'][i]\n",
    "            tasks_temp = list_temp.split(\",\")   # 返回用,分割的列表\n",
    "            task_year_all1['tasks'][i] = tasks_temp\n",
    "            task_year_all1['year'][i] = [task_year_all1['year'][i]]\n",
    "            task_year_all1['year'][i] += task_year_all1['year'][i]*(len(tasks_temp) - 1)\n",
    "            task_year_all1['ryear'][i] = [task_year_all1['ryear'][i]]\n",
    "            task_year_all1['ryear'][i] += task_year_all1['ryear'][i]*(len(tasks_temp) - 1)\n",
    "            task_year_all1['jid'][i] = [task_year_all1['jid'][i]]\n",
    "            task_year_all1['jid'][i] += task_year_all1['jid'][i]*(len(tasks_temp) - 1)\n",
    "            task_year_all1['label'][i] = [task_year_all1['label'][i]]\n",
    "            task_year_all1['label'][i] += task_year_all1['label'][i]*(len(tasks_temp) - 1)"
   ]
  },
  {
   "cell_type": "code",
   "execution_count": null,
   "metadata": {},
   "outputs": [],
   "source": [
    "tasks_all = []\n",
    "tasks_year_all = []\n",
    "tasks_jid_all = []\n",
    "tasks_label_all = []\n",
    "tasks_mlyear_all = []\n",
    "for i in range(0,task_year_all1.shape[0]):\n",
    "    if task_year_all1['tasks'][i] == '':\n",
    "        pass\n",
    "    else:\n",
    "        tasks_all.extend(task_year_all1['tasks'][i])\n",
    "        tasks_year_all.extend(task_year_all1['year'][i])\n",
    "        tasks_jid_all.extend(task_year_all1['jid'][i])\n",
    "        tasks_label_all.extend(task_year_all1['label'][i])\n",
    "        tasks_mlyear_all.extend(task_year_all1['ryear'][i])\n",
    "\n",
    "data = {\"tasks\":tasks_all,\"year\":tasks_year_all,\"jid\":tasks_jid_all,\"label\":tasks_label_all,\"ryear\":tasks_mlyear_all}   \n",
    "unfold = pd.DataFrame(data)"
   ]
  },
  {
   "cell_type": "code",
   "execution_count": null,
   "metadata": {},
   "outputs": [],
   "source": [
    "unfold.sort_values(by=['year','label'],ascending=False).to_csv('task_count.csv',index=False)"
   ]
  },
  {
   "cell_type": "code",
   "execution_count": null,
   "metadata": {},
   "outputs": [],
   "source": [
    "# 将二级任务及以下还原到二级\n",
    "year_task_unfold = unfold\n",
    "n = 0\n",
    "count_no = 0\n",
    "count_data_unique = 0\n",
    "list_no = []\n",
    "\n",
    "for i in range(0,year_task_unfold.shape[0]):\n",
    "    list_temp = [] # 记录二级任务\n",
    "    for k in range(data_unique.shape[0]):\n",
    "        if year_task_unfold['tasks'][i] == data_unique['task'][k]:  #即原本就是二级任务\n",
    "            n = n + 1\n",
    "            break\n",
    "    \n",
    "        else: #如果原本不是二级任务，则需要提升\n",
    "            for t in range(1,6):\n",
    "                sub_temp_name = 'sub_'+str(t)\n",
    "                if year_task_unfold['tasks'][i] == data_unique[sub_temp_name][k]:\n",
    "                    list_temp.append(data_unique['task'][k])\n",
    "                    count_data_unique = count_data_unique + 1\n",
    "    \n",
    "    if len(list_temp) == 0: # 没有提升成功\n",
    "        list_no.append(year_task_unfold['tasks'][i])\n",
    "    else:\n",
    "        year_task_unfold['tasks'][i] = list_temp"
   ]
  },
  {
   "cell_type": "code",
   "execution_count": null,
   "metadata": {},
   "outputs": [],
   "source": [
    "year_task_unfold['year'] = year_task_unfold['year'].astype(str)\n",
    "year_task_unfold['ryear'] = year_task_unfold['ryear'].astype(str)\n",
    "year_task_unfold['jid'] = year_task_unfold['jid'].astype(str)\n",
    "year_task_unfold['label'] = year_task_unfold['label'].astype(str)\n",
    "year_task_unfold['count'] = ''"
   ]
  },
  {
   "cell_type": "code",
   "execution_count": null,
   "metadata": {},
   "outputs": [],
   "source": [
    "# 注意到上一步会产生一些tasks有多个二级任务\n",
    "for i in range(0,year_task_unfold.shape[0]):\n",
    "    if type(year_task_unfold['tasks'][i]) == list:\n",
    "        year_task_unfold['year'][i] = [year_task_unfold['year'][i]]\n",
    "        year_task_unfold['year'][i] += year_task_unfold['year'][i]*(len(year_task_unfold['tasks'][i]) - 1)\n",
    "        year_task_unfold['ryear'][i] = [year_task_unfold['ryear'][i]]\n",
    "        year_task_unfold['ryear'][i] += year_task_unfold['ryear'][i]*(len(year_task_unfold['tasks'][i]) - 1)\n",
    "        year_task_unfold['jid'][i] = [year_task_unfold['jid'][i]]\n",
    "        year_task_unfold['jid'][i] += year_task_unfold['jid'][i]*(len(year_task_unfold['tasks'][i]) - 1)\n",
    "        year_task_unfold['label'][i] = [year_task_unfold['label'][i]]\n",
    "        year_task_unfold['label'][i] += year_task_unfold['label'][i]*(len(year_task_unfold['tasks'][i]) - 1)\n",
    "        num = len(year_task_unfold['tasks'][i])\n",
    "        temp = [str(1/num)]\n",
    "        temp += temp*(num-1)\n",
    "        year_task_unfold['count'][i] = temp\n",
    "    else:\n",
    "        year_task_unfold['tasks'][i] = [year_task_unfold['tasks'][i]]\n",
    "        year_task_unfold['year'][i] = [year_task_unfold['year'][i]]\n",
    "        year_task_unfold['ryear'][i] = [year_task_unfold['ryear'][i]]\n",
    "        year_task_unfold['jid'][i] = [year_task_unfold['jid'][i]]\n",
    "        year_task_unfold['label'][i] = [year_task_unfold['label'][i]]\n",
    "        year_task_unfold['count'][i] = [1]"
   ]
  },
  {
   "cell_type": "code",
   "execution_count": null,
   "metadata": {},
   "outputs": [],
   "source": [
    "tasks_all = []\n",
    "tasks_year_all = []\n",
    "tasks_jid_all = []\n",
    "tasks_label_all = []\n",
    "tasks_mlyear_all = []\n",
    "tasks_count_all = []\n",
    "for i in range(0,year_task_unfold.shape[0]):\n",
    "    tasks_all.extend(year_task_unfold['tasks'][i])\n",
    "    tasks_year_all.extend(year_task_unfold['year'][i])\n",
    "    tasks_jid_all.extend(year_task_unfold['jid'][i])\n",
    "    tasks_label_all.extend(year_task_unfold['label'][i])\n",
    "    tasks_mlyear_all.extend(year_task_unfold['ryear'][i])\n",
    "    tasks_count_all.extend(year_task_unfold['count'][i])\n",
    "\n",
    "data = {\"tasks\":tasks_all,\"year\":tasks_year_all,\"jid\":tasks_jid_all,\"label\":tasks_label_all,\"ryear\":tasks_mlyear_all,\"count\":tasks_count_all}   \n",
    "unfold = pd.DataFrame(data)\n",
    "unfold"
   ]
  },
  {
   "cell_type": "code",
   "execution_count": null,
   "metadata": {},
   "outputs": [],
   "source": [
    "unfold.to_csv(\"second_tasks.csv\",index=False)"
   ]
  },
  {
   "cell_type": "code",
   "execution_count": null,
   "metadata": {},
   "outputs": [],
   "source": [
    "# 需要重新读入，因为要用原始的tasks，用提升到二级的task会有重复\n",
    "unfold = pd.read_csv('task_count.csv')\n",
    "unfold"
   ]
  },
  {
   "cell_type": "code",
   "execution_count": null,
   "metadata": {},
   "outputs": [],
   "source": [
    "unfold['count'] = '1'\n",
    "unfold['year'] = unfold['year'].astype(str)\n",
    "unfold['ryear'] = unfold['ryear'].astype(str)\n",
    "unfold['jid'] = unfold['jid'].astype(str)\n",
    "unfold['label'] = unfold['label'].astype(str)"
   ]
  },
  {
   "cell_type": "code",
   "execution_count": null,
   "metadata": {},
   "outputs": [],
   "source": [
    "# 将二级任务还原到一级\n",
    "year_task_unfold1 = unfold\n",
    "n = 0\n",
    "count_no = 0\n",
    "count_data_unique = 0\n",
    "\n",
    "for i in range(0,year_task_unfold1.shape[0]):\n",
    "    list_temp = []\n",
    "    for k in range(data_unique.shape[0]):\n",
    "        if year_task_unfold1['tasks'][i] == data_unique['category'][k]:  #即原本就是一级任务\n",
    "            n = n + 1\n",
    "            break\n",
    "    \n",
    "        elif year_task_unfold1['tasks'][i] == data_unique['task'][k]:# 是二级任务\n",
    "            list_temp.append(data_unique['category'][k])\n",
    "            count_data_unique = count_data_unique + 1\n",
    "            break\n",
    "\n",
    "        for t in range(1,6):\n",
    "            sub_temp_name = 'sub_'+str(t)\n",
    "            if year_task_unfold1['tasks'][i] == data_unique[sub_temp_name][k]:\n",
    "                list_temp.append(data_unique['category'][k])\n",
    "                count_data_unique = count_data_unique + 1\n",
    "                \n",
    "    if len(list_temp) != 0: # 提升成功\n",
    "        year_task_unfold1['tasks'][i] = list_temp\n",
    "        year_task_unfold1['year'][i] = [year_task_unfold1['year'][i]]\n",
    "        year_task_unfold1['year'][i] += year_task_unfold1['year'][i]*(len(list_temp) - 1)\n",
    "        year_task_unfold1['ryear'][i] = [year_task_unfold1['ryear'][i]]\n",
    "        year_task_unfold1['ryear'][i] += year_task_unfold1['ryear'][i]*(len(list_temp) - 1)\n",
    "        year_task_unfold1['jid'][i] = [year_task_unfold1['jid'][i]]\n",
    "        year_task_unfold1['jid'][i] += year_task_unfold1['jid'][i]*(len(list_temp) - 1)\n",
    "        year_task_unfold1['label'][i] = [year_task_unfold1['label'][i]]\n",
    "        year_task_unfold1['label'][i] += year_task_unfold1['label'][i]*(len(list_temp) - 1)\n",
    "        year_task_unfold1['count'][i] = [str(1/len(list_temp))]\n",
    "        year_task_unfold1['count'][i] += year_task_unfold1['count'][i]*(len(list_temp) - 1)\n",
    "    else:\n",
    "        year_task_unfold1['tasks'][i] = [year_task_unfold1['tasks'][i]]\n",
    "        year_task_unfold1['year'][i] = [year_task_unfold1['year'][i]]\n",
    "        year_task_unfold1['ryear'][i] = [year_task_unfold1['ryear'][i]]\n",
    "        year_task_unfold1['jid'][i] = [year_task_unfold1['jid'][i]]\n",
    "        year_task_unfold1['label'][i] = [year_task_unfold1['label'][i]]\n",
    "        year_task_unfold1['count'][i] = [year_task_unfold1['count'][i]]"
   ]
  },
  {
   "cell_type": "code",
   "execution_count": null,
   "metadata": {},
   "outputs": [],
   "source": [
    "tasks_all = []\n",
    "tasks_year_all = []\n",
    "tasks_jid_all = []\n",
    "tasks_label_all = []\n",
    "tasks_mlyear_all = []\n",
    "tasks_count_all = []\n",
    "for i in range(0,year_task_unfold1.shape[0]):\n",
    "    tasks_all.extend(year_task_unfold1['tasks'][i])\n",
    "    tasks_year_all.extend(year_task_unfold1['year'][i])\n",
    "    tasks_jid_all.extend(year_task_unfold1['jid'][i])\n",
    "    tasks_label_all.extend(year_task_unfold1['label'][i])\n",
    "    tasks_mlyear_all.extend(year_task_unfold1['ryear'][i])\n",
    "    tasks_count_all.extend(year_task_unfold1['count'][i])\n",
    "\n",
    "data = {\"tasks\":tasks_all,\"year\":tasks_year_all,\"jid\":tasks_jid_all,\"label\":tasks_label_all,\"ryear\":tasks_mlyear_all,\"count\":tasks_count_all}   \n",
    "unfold = pd.DataFrame(data)\n",
    "unfold"
   ]
  },
  {
   "cell_type": "code",
   "execution_count": null,
   "metadata": {},
   "outputs": [],
   "source": [
    "unfold.to_csv(\"first_tasks.csv\",index=False)"
   ]
  },
  {
   "cell_type": "code",
   "execution_count": null,
   "metadata": {},
   "outputs": [],
   "source": [
    "import pandas as pd\n",
    "first_tasks = pd.read_csv('first_tasks.csv')\n",
    "second_tasks = pd.read_csv('second_tasks.csv')"
   ]
  },
  {
   "cell_type": "code",
   "execution_count": null,
   "metadata": {},
   "outputs": [],
   "source": [
    "category = ['Computer Vision','Natural Language Processing','Medical','Miscellaneous','Methodology','Time Series','Graphs','Speech','Reasoning','Playing Games','Computer Code','Audio','Robots','Adversarial','Knowledge Base','Music']"
   ]
  },
  {
   "cell_type": "code",
   "execution_count": null,
   "metadata": {},
   "outputs": [],
   "source": [
    "s = first_tasks.loc[first_tasks['label']==2]['count'].sum()"
   ]
  },
  {
   "cell_type": "code",
   "execution_count": null,
   "metadata": {},
   "outputs": [],
   "source": [
    "IS = first_tasks.loc[first_tasks['label']==2].groupby(['tasks'])['count'].sum()\n",
    "IS[category]/s"
   ]
  },
  {
   "cell_type": "code",
   "execution_count": null,
   "metadata": {},
   "outputs": [],
   "source": [
    "c = pd.pivot_table(first_tasks,index='tasks',columns='jid',values='count',aggfunc='sum')\n",
    "c2017 = pd.pivot_table(first_tasks.loc[first_tasks['year'] == 2017],index='tasks',columns='jid',values='count',aggfunc='sum')\n",
    "c2018 = pd.pivot_table(first_tasks.loc[first_tasks['year'] == 2018],index='tasks',columns='jid',values='count',aggfunc='sum')\n",
    "c2019 = pd.pivot_table(first_tasks.loc[first_tasks['year'] == 2019],index='tasks',columns='jid',values='count',aggfunc='sum')\n",
    "c2020 = pd.pivot_table(first_tasks.loc[first_tasks['year'] == 2020],index='tasks',columns='jid',values='count',aggfunc='sum')\n",
    "c2021 = pd.pivot_table(first_tasks.loc[first_tasks['year'] == 2021],index='tasks',columns='jid',values='count',aggfunc='sum')\n",
    "c2022 = pd.pivot_table(first_tasks.loc[first_tasks['year'] == 2022],index='tasks',columns='jid',values='count',aggfunc='sum')\n",
    "t = pd.pivot_table(second_tasks,index='tasks',columns='jid',values='count',aggfunc='sum')\n",
    "t2017 = pd.pivot_table(second_tasks.loc[second_tasks['year'] == 2017],index='tasks',columns='jid',values='count',aggfunc='sum')\n",
    "t2018 = pd.pivot_table(second_tasks.loc[second_tasks['year'] == 2018],index='tasks',columns='jid',values='count',aggfunc='sum')\n",
    "t2019 = pd.pivot_table(second_tasks.loc[second_tasks['year'] == 2019],index='tasks',columns='jid',values='count',aggfunc='sum')\n",
    "t2020 = pd.pivot_table(second_tasks.loc[second_tasks['year'] == 2020],index='tasks',columns='jid',values='count',aggfunc='sum')\n",
    "t2021 = pd.pivot_table(second_tasks.loc[second_tasks['year'] == 2021],index='tasks',columns='jid',values='count',aggfunc='sum')\n",
    "t2022 = pd.pivot_table(second_tasks.loc[second_tasks['year'] == 2022],index='tasks',columns='jid',values='count',aggfunc='sum')"
   ]
  },
  {
   "cell_type": "code",
   "execution_count": null,
   "metadata": {},
   "outputs": [],
   "source": [
    "c.to_csv('c.csv')\n",
    "c2017.to_csv('c2017.csv')\n",
    "c2018.to_csv('c2018.csv')\n",
    "c2019.to_csv('c2019.csv')\n",
    "c2020.to_csv('c2020.csv')\n",
    "c2021.to_csv('c2021.csv')\n",
    "c2022.to_csv('c2022.csv')\n",
    "t.to_csv('t.csv')\n",
    "t2017.to_csv('t2017.csv')\n",
    "t2018.to_csv('t2018.csv')\n",
    "t2019.to_csv('t2019.csv')\n",
    "t2020.to_csv('t2020.csv')\n",
    "t2021.to_csv('t2021.csv')\n",
    "t2022.to_csv('t2022.csv')"
   ]
  }
 ],
 "metadata": {
  "kernelspec": {
   "display_name": "base",
   "language": "python",
   "name": "python3"
  },
  "language_info": {
   "codemirror_mode": {
    "name": "ipython",
    "version": 3
   },
   "file_extension": ".py",
   "mimetype": "text/x-python",
   "name": "python",
   "nbconvert_exporter": "python",
   "pygments_lexer": "ipython3",
   "version": "3.9.12"
  },
  "orig_nbformat": 4
 },
 "nbformat": 4,
 "nbformat_minor": 2
}
